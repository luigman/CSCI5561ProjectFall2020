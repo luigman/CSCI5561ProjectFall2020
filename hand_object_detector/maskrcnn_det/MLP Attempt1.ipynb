{
 "cells": [
  {
   "cell_type": "code",
   "execution_count": 1,
   "metadata": {},
   "outputs": [
    {
     "name": "stderr",
     "output_type": "stream",
     "text": [
      "Using TensorFlow backend.\n"
     ]
    }
   ],
   "source": [
    "import tensorflow as tf\n",
    "import numpy as np\n",
    "import pandas as pd\n",
    "import matplotlib.pyplot as plt\n",
    "import random\n",
    "import math\n",
    "import os\n",
    "from keras.models import Sequential\n",
    "from keras.layers import Dense, Activation\n",
    "from keras.utils import to_categorical"
   ]
  },
  {
   "cell_type": "code",
   "execution_count": 2,
   "metadata": {},
   "outputs": [],
   "source": [
    "vids = [np.load('P96/rgb_frames/P96_101stab.npy', allow_pickle=True),\n",
    "        np.load('P96/rgb_frames/P96_104stab.npy', allow_pickle=True),\n",
    "        np.load('P96/rgb_frames/P96_105stab.npy', allow_pickle=True),\n",
    "        np.load('P96/rgb_frames/P96_106stab.npy', allow_pickle=True),\n",
    "        np.load('P96/rgb_frames/P96_107stab.npy', allow_pickle=True),\n",
    "        np.load('P96/rgb_frames/P96_108stab.npy', allow_pickle=True),\n",
    "        np.load('P96/rgb_frames/P96_109stab.npy', allow_pickle=True),\n",
    "        np.load('P96/rgb_frames/P96_112stab.npy', allow_pickle=True),\n",
    "        np.load('P96/rgb_frames/P96_114stab.npy', allow_pickle=True),\n",
    "        np.load('P96/rgb_frames/P96_116stab.npy', allow_pickle=True),\n",
    "        np.load('P96/rgb_frames/P96_117stab.npy', allow_pickle=True),\n",
    "        np.load('P95/rgb_frames/P95_101stab.npy', allow_pickle=True),\n",
    "        np.load('P95/rgb_frames/P95_102stab.npy', allow_pickle=True),\n",
    "        np.load('P95/rgb_frames/P95_103stab.npy', allow_pickle=True),\n",
    "        np.load('P95/rgb_frames/P95_104stab.npy', allow_pickle=True),\n",
    "        np.load('P95/rgb_frames/P95_105stab.npy', allow_pickle=True),\n",
    "        np.load('P95/rgb_frames/P95_106stab.npy', allow_pickle=True),\n",
    "        np.load('P95/rgb_frames/P95_107stab.npy', allow_pickle=True),\n",
    "        np.load('P95/rgb_frames/P95_108stab.npy', allow_pickle=True),\n",
    "        np.load('P95/rgb_frames/P95_109stab.npy', allow_pickle=True),\n",
    "        np.load('P95/rgb_frames/P95_110stab.npy', allow_pickle=True),\n",
    "        np.load('P95/rgb_frames/P95_111stab.npy', allow_pickle=True)]"
   ]
  },
  {
   "cell_type": "code",
   "execution_count": 3,
   "metadata": {},
   "outputs": [],
   "source": [
    "vids = np.array(vids)"
   ]
  },
  {
   "cell_type": "code",
   "execution_count": 4,
   "metadata": {},
   "outputs": [],
   "source": [
    "data = []\n",
    "for vid in vids:\n",
    "    for series in vid:\n",
    "        for i in range(len(series) - 5):\n",
    "            mini_series = []\n",
    "            for j in range(5):\n",
    "                mini_series.append(series[i+j])\n",
    "            data.append(mini_series)"
   ]
  },
  {
   "cell_type": "code",
   "execution_count": 5,
   "metadata": {},
   "outputs": [],
   "source": [
    "data = np.array(data)"
   ]
  },
  {
   "cell_type": "code",
   "execution_count": 6,
   "metadata": {},
   "outputs": [
    {
     "data": {
      "text/plain": [
       "(1620, 5, 3)"
      ]
     },
     "execution_count": 6,
     "metadata": {},
     "output_type": "execute_result"
    }
   ],
   "source": [
    "data.shape"
   ]
  },
  {
   "cell_type": "code",
   "execution_count": 7,
   "metadata": {},
   "outputs": [],
   "source": [
    "np.random.shuffle(data)"
   ]
  },
  {
   "cell_type": "code",
   "execution_count": 8,
   "metadata": {},
   "outputs": [],
   "source": [
    "x = []\n",
    "y = []\n",
    "for d in data:\n",
    "    row = []\n",
    "    for i in range(5):\n",
    "        row.append(d[i][:2])\n",
    "    x.append(row)\n",
    "    y.append(d[i][2])\n",
    "x = np.array(x)\n",
    "y = np.array(y)"
   ]
  },
  {
   "cell_type": "code",
   "execution_count": 9,
   "metadata": {},
   "outputs": [],
   "source": [
    "x_data = []\n",
    "for point in x:\n",
    "    norm_vals = []\n",
    "    for i in range(5):\n",
    "        norm_vals.append(np.linalg.norm(point[i]))\n",
    "    x_data.append(norm_vals)\n",
    "x_data = np.array(x_data)"
   ]
  },
  {
   "cell_type": "code",
   "execution_count": 10,
   "metadata": {},
   "outputs": [],
   "source": [
    "m = max(x_data.flatten())"
   ]
  },
  {
   "cell_type": "code",
   "execution_count": 11,
   "metadata": {},
   "outputs": [],
   "source": [
    "x_data2 = x_data/m"
   ]
  },
  {
   "cell_type": "code",
   "execution_count": 12,
   "metadata": {},
   "outputs": [],
   "source": [
    "n = int(len(x_data2)*0.8)"
   ]
  },
  {
   "cell_type": "code",
   "execution_count": 13,
   "metadata": {},
   "outputs": [],
   "source": [
    "x_train, x_test = np.split(x_data2, [n])\n",
    "y_train, y_test = np.split(y, [n])\n",
    "y_train=to_categorical(y_train,2)\n",
    "y_test=to_categorical(y_test,2)"
   ]
  },
  {
   "cell_type": "code",
   "execution_count": 14,
   "metadata": {
    "scrolled": true
   },
   "outputs": [
    {
     "name": "stdout",
     "output_type": "stream",
     "text": [
      "WARNING:tensorflow:From /home/helena/anaconda3/lib/python3.7/site-packages/keras/backend/tensorflow_backend.py:74: The name tf.get_default_graph is deprecated. Please use tf.compat.v1.get_default_graph instead.\n",
      "\n",
      "WARNING:tensorflow:From /home/helena/anaconda3/lib/python3.7/site-packages/keras/backend/tensorflow_backend.py:517: The name tf.placeholder is deprecated. Please use tf.compat.v1.placeholder instead.\n",
      "\n",
      "WARNING:tensorflow:From /home/helena/anaconda3/lib/python3.7/site-packages/keras/backend/tensorflow_backend.py:4138: The name tf.random_uniform is deprecated. Please use tf.random.uniform instead.\n",
      "\n"
     ]
    }
   ],
   "source": [
    "model = Sequential()\n",
    "model.add(Dense(10, input_dim=5, activation='relu'))\n",
    "model.add(Dense(30, activation='relu'))\n",
    "model.add(Dense(2, activation='softmax'))"
   ]
  },
  {
   "cell_type": "code",
   "execution_count": 15,
   "metadata": {},
   "outputs": [
    {
     "name": "stdout",
     "output_type": "stream",
     "text": [
      "WARNING:tensorflow:From /home/helena/anaconda3/lib/python3.7/site-packages/keras/optimizers.py:790: The name tf.train.Optimizer is deprecated. Please use tf.compat.v1.train.Optimizer instead.\n",
      "\n",
      "WARNING:tensorflow:From /home/helena/anaconda3/lib/python3.7/site-packages/keras/backend/tensorflow_backend.py:3295: The name tf.log is deprecated. Please use tf.math.log instead.\n",
      "\n",
      "WARNING:tensorflow:From /home/helena/anaconda3/lib/python3.7/site-packages/tensorflow_core/python/ops/math_grad.py:1424: where (from tensorflow.python.ops.array_ops) is deprecated and will be removed in a future version.\n",
      "Instructions for updating:\n",
      "Use tf.where in 2.0, which has the same broadcast rule as np.where\n",
      "WARNING:tensorflow:From /home/helena/anaconda3/lib/python3.7/site-packages/keras/backend/tensorflow_backend.py:986: The name tf.assign_add is deprecated. Please use tf.compat.v1.assign_add instead.\n",
      "\n",
      "WARNING:tensorflow:From /home/helena/anaconda3/lib/python3.7/site-packages/keras/backend/tensorflow_backend.py:973: The name tf.assign is deprecated. Please use tf.compat.v1.assign instead.\n",
      "\n",
      "WARNING:tensorflow:From /home/helena/anaconda3/lib/python3.7/site-packages/keras/backend/tensorflow_backend.py:2741: The name tf.Session is deprecated. Please use tf.compat.v1.Session instead.\n",
      "\n",
      "Epoch 1/100\n",
      "WARNING:tensorflow:From /home/helena/anaconda3/lib/python3.7/site-packages/keras/backend/tensorflow_backend.py:174: The name tf.get_default_session is deprecated. Please use tf.compat.v1.get_default_session instead.\n",
      "\n",
      "WARNING:tensorflow:From /home/helena/anaconda3/lib/python3.7/site-packages/keras/backend/tensorflow_backend.py:181: The name tf.ConfigProto is deprecated. Please use tf.compat.v1.ConfigProto instead.\n",
      "\n",
      "WARNING:tensorflow:From /home/helena/anaconda3/lib/python3.7/site-packages/keras/backend/tensorflow_backend.py:190: The name tf.global_variables is deprecated. Please use tf.compat.v1.global_variables instead.\n",
      "\n",
      "WARNING:tensorflow:From /home/helena/anaconda3/lib/python3.7/site-packages/keras/backend/tensorflow_backend.py:199: The name tf.is_variable_initialized is deprecated. Please use tf.compat.v1.is_variable_initialized instead.\n",
      "\n",
      "WARNING:tensorflow:From /home/helena/anaconda3/lib/python3.7/site-packages/keras/backend/tensorflow_backend.py:206: The name tf.variables_initializer is deprecated. Please use tf.compat.v1.variables_initializer instead.\n",
      "\n",
      "1296/1296 [==============================] - 0s 179us/step - loss: 0.5551 - acc: 0.8032\n",
      "Epoch 2/100\n",
      "1296/1296 [==============================] - 0s 24us/step - loss: 0.4188 - acc: 0.8032\n",
      "Epoch 3/100\n",
      "1296/1296 [==============================] - 0s 22us/step - loss: 0.3454 - acc: 0.8032\n",
      "Epoch 4/100\n",
      "1296/1296 [==============================] - 0s 22us/step - loss: 0.3046 - acc: 0.8032\n",
      "Epoch 5/100\n",
      "1296/1296 [==============================] - 0s 27us/step - loss: 0.2610 - acc: 0.8040\n",
      "Epoch 6/100\n",
      "1296/1296 [==============================] - 0s 24us/step - loss: 0.2188 - acc: 0.8819\n",
      "Epoch 7/100\n",
      "1296/1296 [==============================] - 0s 27us/step - loss: 0.1867 - acc: 0.9390\n",
      "Epoch 8/100\n",
      "1296/1296 [==============================] - 0s 24us/step - loss: 0.1668 - acc: 0.9236\n",
      "Epoch 9/100\n",
      "1296/1296 [==============================] - 0s 27us/step - loss: 0.1553 - acc: 0.9228\n",
      "Epoch 10/100\n",
      "1296/1296 [==============================] - 0s 24us/step - loss: 0.1492 - acc: 0.9267\n",
      "Epoch 11/100\n",
      "1296/1296 [==============================] - 0s 24us/step - loss: 0.1438 - acc: 0.9259\n",
      "Epoch 12/100\n",
      "1296/1296 [==============================] - 0s 27us/step - loss: 0.1406 - acc: 0.9259\n",
      "Epoch 13/100\n",
      "1296/1296 [==============================] - 0s 24us/step - loss: 0.1387 - acc: 0.9267\n",
      "Epoch 14/100\n",
      "1296/1296 [==============================] - 0s 26us/step - loss: 0.1369 - acc: 0.9259\n",
      "Epoch 15/100\n",
      "1296/1296 [==============================] - 0s 25us/step - loss: 0.1360 - acc: 0.9259\n",
      "Epoch 16/100\n",
      "1296/1296 [==============================] - 0s 25us/step - loss: 0.1352 - acc: 0.9267\n",
      "Epoch 17/100\n",
      "1296/1296 [==============================] - 0s 26us/step - loss: 0.1349 - acc: 0.9252\n",
      "Epoch 18/100\n",
      "1296/1296 [==============================] - 0s 25us/step - loss: 0.1344 - acc: 0.9267\n",
      "Epoch 19/100\n",
      "1296/1296 [==============================] - 0s 26us/step - loss: 0.1347 - acc: 0.9236\n",
      "Epoch 20/100\n",
      "1296/1296 [==============================] - 0s 24us/step - loss: 0.1340 - acc: 0.9267\n",
      "Epoch 21/100\n",
      "1296/1296 [==============================] - 0s 28us/step - loss: 0.1336 - acc: 0.9267\n",
      "Epoch 22/100\n",
      "1296/1296 [==============================] - 0s 26us/step - loss: 0.1330 - acc: 0.9267\n",
      "Epoch 23/100\n",
      "1296/1296 [==============================] - 0s 24us/step - loss: 0.1330 - acc: 0.9259\n",
      "Epoch 24/100\n",
      "1296/1296 [==============================] - 0s 24us/step - loss: 0.1332 - acc: 0.9275\n",
      "Epoch 25/100\n",
      "1296/1296 [==============================] - 0s 23us/step - loss: 0.1335 - acc: 0.9228\n",
      "Epoch 26/100\n",
      "1296/1296 [==============================] - 0s 26us/step - loss: 0.1327 - acc: 0.9259\n",
      "Epoch 27/100\n",
      "1296/1296 [==============================] - 0s 26us/step - loss: 0.1325 - acc: 0.9259\n",
      "Epoch 28/100\n",
      "1296/1296 [==============================] - 0s 24us/step - loss: 0.1324 - acc: 0.9267\n",
      "Epoch 29/100\n",
      "1296/1296 [==============================] - 0s 24us/step - loss: 0.1327 - acc: 0.9244\n",
      "Epoch 30/100\n",
      "1296/1296 [==============================] - 0s 27us/step - loss: 0.1322 - acc: 0.9228\n",
      "Epoch 31/100\n",
      "1296/1296 [==============================] - 0s 24us/step - loss: 0.1325 - acc: 0.9236\n",
      "Epoch 32/100\n",
      "1296/1296 [==============================] - 0s 25us/step - loss: 0.1325 - acc: 0.9244\n",
      "Epoch 33/100\n",
      "1296/1296 [==============================] - 0s 28us/step - loss: 0.1319 - acc: 0.9267\n",
      "Epoch 34/100\n",
      "1296/1296 [==============================] - 0s 24us/step - loss: 0.1318 - acc: 0.9267\n",
      "Epoch 35/100\n",
      "1296/1296 [==============================] - 0s 24us/step - loss: 0.1320 - acc: 0.9252\n",
      "Epoch 36/100\n",
      "1296/1296 [==============================] - 0s 24us/step - loss: 0.1318 - acc: 0.9244\n",
      "Epoch 37/100\n",
      "1296/1296 [==============================] - 0s 26us/step - loss: 0.1318 - acc: 0.9252\n",
      "Epoch 38/100\n",
      "1296/1296 [==============================] - 0s 25us/step - loss: 0.1316 - acc: 0.9236\n",
      "Epoch 39/100\n",
      "1296/1296 [==============================] - 0s 24us/step - loss: 0.1316 - acc: 0.9267\n",
      "Epoch 40/100\n",
      "1296/1296 [==============================] - 0s 25us/step - loss: 0.1311 - acc: 0.9259\n",
      "Epoch 41/100\n",
      "1296/1296 [==============================] - 0s 24us/step - loss: 0.1316 - acc: 0.9275\n",
      "Epoch 42/100\n",
      "1296/1296 [==============================] - 0s 24us/step - loss: 0.1311 - acc: 0.9244\n",
      "Epoch 43/100\n",
      "1296/1296 [==============================] - 0s 23us/step - loss: 0.1314 - acc: 0.9275\n",
      "Epoch 44/100\n",
      "1296/1296 [==============================] - 0s 24us/step - loss: 0.1308 - acc: 0.9252\n",
      "Epoch 45/100\n",
      "1296/1296 [==============================] - 0s 24us/step - loss: 0.1308 - acc: 0.9252\n",
      "Epoch 46/100\n",
      "1296/1296 [==============================] - 0s 23us/step - loss: 0.1311 - acc: 0.9244\n",
      "Epoch 47/100\n",
      "1296/1296 [==============================] - 0s 23us/step - loss: 0.1317 - acc: 0.9267\n",
      "Epoch 48/100\n",
      "1296/1296 [==============================] - 0s 23us/step - loss: 0.1308 - acc: 0.9252\n",
      "Epoch 49/100\n",
      "1296/1296 [==============================] - 0s 24us/step - loss: 0.1304 - acc: 0.9244\n",
      "Epoch 50/100\n",
      "1296/1296 [==============================] - 0s 32us/step - loss: 0.1305 - acc: 0.9275\n",
      "Epoch 51/100\n",
      "1296/1296 [==============================] - 0s 27us/step - loss: 0.1309 - acc: 0.9259\n",
      "Epoch 52/100\n",
      "1296/1296 [==============================] - 0s 25us/step - loss: 0.1302 - acc: 0.9259\n",
      "Epoch 53/100\n",
      "1296/1296 [==============================] - 0s 24us/step - loss: 0.1306 - acc: 0.9244\n",
      "Epoch 54/100\n",
      "1296/1296 [==============================] - 0s 26us/step - loss: 0.1308 - acc: 0.9221\n",
      "Epoch 55/100\n",
      "1296/1296 [==============================] - 0s 24us/step - loss: 0.1314 - acc: 0.9252\n",
      "Epoch 56/100\n",
      "1296/1296 [==============================] - 0s 23us/step - loss: 0.1305 - acc: 0.9259\n",
      "Epoch 57/100\n",
      "1296/1296 [==============================] - 0s 24us/step - loss: 0.1305 - acc: 0.9290\n",
      "Epoch 58/100\n",
      "1296/1296 [==============================] - 0s 24us/step - loss: 0.1300 - acc: 0.9298\n",
      "Epoch 59/100\n"
     ]
    },
    {
     "name": "stdout",
     "output_type": "stream",
     "text": [
      "1296/1296 [==============================] - 0s 23us/step - loss: 0.1296 - acc: 0.9252\n",
      "Epoch 60/100\n",
      "1296/1296 [==============================] - 0s 25us/step - loss: 0.1298 - acc: 0.9267\n",
      "Epoch 61/100\n",
      "1296/1296 [==============================] - 0s 23us/step - loss: 0.1296 - acc: 0.9275\n",
      "Epoch 62/100\n",
      "1296/1296 [==============================] - 0s 22us/step - loss: 0.1294 - acc: 0.9252\n",
      "Epoch 63/100\n",
      "1296/1296 [==============================] - 0s 19us/step - loss: 0.1294 - acc: 0.9252\n",
      "Epoch 64/100\n",
      "1296/1296 [==============================] - 0s 22us/step - loss: 0.1294 - acc: 0.9252\n",
      "Epoch 65/100\n",
      "1296/1296 [==============================] - 0s 21us/step - loss: 0.1299 - acc: 0.9259\n",
      "Epoch 66/100\n",
      "1296/1296 [==============================] - 0s 20us/step - loss: 0.1295 - acc: 0.9267\n",
      "Epoch 67/100\n",
      "1296/1296 [==============================] - 0s 22us/step - loss: 0.1295 - acc: 0.9275\n",
      "Epoch 68/100\n",
      "1296/1296 [==============================] - 0s 21us/step - loss: 0.1292 - acc: 0.9244\n",
      "Epoch 69/100\n",
      "1296/1296 [==============================] - 0s 21us/step - loss: 0.1296 - acc: 0.9259\n",
      "Epoch 70/100\n",
      "1296/1296 [==============================] - 0s 21us/step - loss: 0.1298 - acc: 0.9267\n",
      "Epoch 71/100\n",
      "1296/1296 [==============================] - 0s 22us/step - loss: 0.1293 - acc: 0.9252\n",
      "Epoch 72/100\n",
      "1296/1296 [==============================] - 0s 23us/step - loss: 0.1289 - acc: 0.9244\n",
      "Epoch 73/100\n",
      "1296/1296 [==============================] - 0s 21us/step - loss: 0.1295 - acc: 0.9275\n",
      "Epoch 74/100\n",
      "1296/1296 [==============================] - 0s 23us/step - loss: 0.1288 - acc: 0.9267\n",
      "Epoch 75/100\n",
      "1296/1296 [==============================] - 0s 21us/step - loss: 0.1295 - acc: 0.9259\n",
      "Epoch 76/100\n",
      "1296/1296 [==============================] - 0s 20us/step - loss: 0.1287 - acc: 0.9259\n",
      "Epoch 77/100\n",
      "1296/1296 [==============================] - 0s 22us/step - loss: 0.1287 - acc: 0.9252\n",
      "Epoch 78/100\n",
      "1296/1296 [==============================] - 0s 23us/step - loss: 0.1287 - acc: 0.9244\n",
      "Epoch 79/100\n",
      "1296/1296 [==============================] - 0s 23us/step - loss: 0.1285 - acc: 0.9259\n",
      "Epoch 80/100\n",
      "1296/1296 [==============================] - 0s 21us/step - loss: 0.1288 - acc: 0.9267\n",
      "Epoch 81/100\n",
      "1296/1296 [==============================] - 0s 22us/step - loss: 0.1286 - acc: 0.9259\n",
      "Epoch 82/100\n",
      "1296/1296 [==============================] - 0s 21us/step - loss: 0.1292 - acc: 0.9267\n",
      "Epoch 83/100\n",
      "1296/1296 [==============================] - 0s 21us/step - loss: 0.1285 - acc: 0.9267\n",
      "Epoch 84/100\n",
      "1296/1296 [==============================] - 0s 21us/step - loss: 0.1287 - acc: 0.9236\n",
      "Epoch 85/100\n",
      "1296/1296 [==============================] - 0s 23us/step - loss: 0.1282 - acc: 0.9252\n",
      "Epoch 86/100\n",
      "1296/1296 [==============================] - 0s 22us/step - loss: 0.1279 - acc: 0.9282\n",
      "Epoch 87/100\n",
      "1296/1296 [==============================] - 0s 20us/step - loss: 0.1287 - acc: 0.9252\n",
      "Epoch 88/100\n",
      "1296/1296 [==============================] - 0s 21us/step - loss: 0.1281 - acc: 0.9252\n",
      "Epoch 89/100\n",
      "1296/1296 [==============================] - 0s 21us/step - loss: 0.1277 - acc: 0.9275\n",
      "Epoch 90/100\n",
      "1296/1296 [==============================] - 0s 18us/step - loss: 0.1278 - acc: 0.9259\n",
      "Epoch 91/100\n",
      "1296/1296 [==============================] - 0s 21us/step - loss: 0.1279 - acc: 0.9275\n",
      "Epoch 92/100\n",
      "1296/1296 [==============================] - 0s 19us/step - loss: 0.1276 - acc: 0.9259\n",
      "Epoch 93/100\n",
      "1296/1296 [==============================] - 0s 22us/step - loss: 0.1278 - acc: 0.9252\n",
      "Epoch 94/100\n",
      "1296/1296 [==============================] - 0s 21us/step - loss: 0.1276 - acc: 0.9282\n",
      "Epoch 95/100\n",
      "1296/1296 [==============================] - 0s 20us/step - loss: 0.1275 - acc: 0.9275\n",
      "Epoch 96/100\n",
      "1296/1296 [==============================] - 0s 21us/step - loss: 0.1273 - acc: 0.9252\n",
      "Epoch 97/100\n",
      "1296/1296 [==============================] - 0s 21us/step - loss: 0.1273 - acc: 0.9259\n",
      "Epoch 98/100\n",
      "1296/1296 [==============================] - 0s 20us/step - loss: 0.1274 - acc: 0.9275\n",
      "Epoch 99/100\n",
      "1296/1296 [==============================] - 0s 22us/step - loss: 0.1271 - acc: 0.9244\n",
      "Epoch 100/100\n",
      "1296/1296 [==============================] - 0s 21us/step - loss: 0.1270 - acc: 0.9290\n"
     ]
    },
    {
     "data": {
      "text/plain": [
       "<keras.callbacks.History at 0x7f5f8074d790>"
      ]
     },
     "execution_count": 15,
     "metadata": {},
     "output_type": "execute_result"
    }
   ],
   "source": [
    "model.compile(optimizer='adam',loss='categorical_crossentropy', metrics=['accuracy'])\n",
    "model.fit(x_train, y_train, epochs=100)"
   ]
  },
  {
   "cell_type": "code",
   "execution_count": 16,
   "metadata": {},
   "outputs": [
    {
     "name": "stdout",
     "output_type": "stream",
     "text": [
      "324/324 [==============================] - 0s 83us/step\n",
      "0.09092120922825954\n",
      "0.941358024691358\n"
     ]
    }
   ],
   "source": [
    "test_loss, test_accuracy = model.evaluate(x_test, y_test)\n",
    "print(test_loss)\n",
    "print(test_accuracy)"
   ]
  },
  {
   "cell_type": "code",
   "execution_count": 40,
   "metadata": {},
   "outputs": [],
   "source": [
    "new_test = np.load('P99/rgb_frames/P99_107stab.npy', allow_pickle=True)"
   ]
  },
  {
   "cell_type": "code",
   "execution_count": 41,
   "metadata": {
    "scrolled": true
   },
   "outputs": [
    {
     "data": {
      "text/plain": [
       "array([[[ -28.37921143,  -39.31248474,    1.        ],\n",
       "        [ -45.70471191,  -38.95214844,    1.        ],\n",
       "        [ -49.61859131,  -45.2301178 ,    1.        ],\n",
       "        [ -52.06066895,  -50.90625   ,    1.        ],\n",
       "        [ -80.60552979,  -63.9899292 ,    1.        ],\n",
       "        [ -83.14001465,  -75.7538147 ,    1.        ],\n",
       "        [-122.6975708 , -103.54504395,    1.        ],\n",
       "        [-126.04559326, -127.87234497,    1.        ],\n",
       "        [-148.46765137, -158.46879578,    1.        ],\n",
       "        [-173.44543457, -189.05802917,    1.        ],\n",
       "        [-213.21533203, -223.01554871,    0.        ],\n",
       "        [-257.73468018, -261.00395203,    0.        ],\n",
       "        [-305.78051758, -301.83625793,    0.        ],\n",
       "        [-362.33178711, -345.69969177,    0.        ],\n",
       "        [-423.7019043 , -407.75440979,    0.        ],\n",
       "        [-488.76037598, -465.65103149,    0.        ],\n",
       "        [-551.83056641, -521.30487061,    0.        ],\n",
       "        [-617.12902832, -559.6661377 ,    0.        ],\n",
       "        [-675.53662109, -597.27011108,    0.        ],\n",
       "        [-735.13122559, -639.99700928,    0.        ]]])"
      ]
     },
     "execution_count": 41,
     "metadata": {},
     "output_type": "execute_result"
    }
   ],
   "source": [
    "new_test"
   ]
  },
  {
   "cell_type": "code",
   "execution_count": 42,
   "metadata": {},
   "outputs": [],
   "source": [
    "x1 = []\n",
    "y1 = []\n",
    "for i in range(len(new_test[0]) - 5):\n",
    "    point = []\n",
    "    for j in range(5):\n",
    "        point.append(np.linalg.norm(new_test[0][i+j][:2]))\n",
    "    x1.append(point)\n",
    "    y1.append(new_test[0][i+j][2])\n",
    "x1 = np.array(x1)\n",
    "y1 = np.array(y1)"
   ]
  },
  {
   "cell_type": "code",
   "execution_count": 43,
   "metadata": {},
   "outputs": [],
   "source": [
    "xtest1 = x1/m"
   ]
  },
  {
   "cell_type": "code",
   "execution_count": 44,
   "metadata": {},
   "outputs": [
    {
     "data": {
      "text/plain": [
       "1106.50695399817"
      ]
     },
     "execution_count": 44,
     "metadata": {},
     "output_type": "execute_result"
    }
   ],
   "source": [
    "m"
   ]
  },
  {
   "cell_type": "code",
   "execution_count": 45,
   "metadata": {},
   "outputs": [],
   "source": [
    "y_pred = model.predict(xtest1)\n",
    "y_vals = []\n",
    "for val in y_pred:\n",
    "    y_vals.append(np.argmax(val))"
   ]
  },
  {
   "cell_type": "code",
   "execution_count": 46,
   "metadata": {},
   "outputs": [
    {
     "name": "stdout",
     "output_type": "stream",
     "text": [
      "[1. 1. 1. 1. 1. 1. 0. 0. 0. 0. 0. 0. 0. 0. 0.]\n",
      "[1, 1, 1, 1, 1, 1, 0, 0, 0, 0, 0, 0, 0, 0, 0]\n"
     ]
    }
   ],
   "source": [
    "print(y1)\n",
    "print(y_vals)"
   ]
  },
  {
   "cell_type": "code",
   "execution_count": 47,
   "metadata": {},
   "outputs": [
    {
     "data": {
      "text/plain": [
       "<matplotlib.collections.PathCollection at 0x7f5ef3a85a10>"
      ]
     },
     "execution_count": 47,
     "metadata": {},
     "output_type": "execute_result"
    },
    {
     "data": {
      "image/png": "[encoded data removed]",
      "text/plain": [
       "<Figure size 432x288 with 1 Axes>"
      ]
     },
     "metadata": {
      "needs_background": "light"
     },
     "output_type": "display_data"
    },
    {
     "data": {
      "image/png": "[encoded data removed]",
      "text/plain": [
       "<Figure size 432x288 with 1 Axes>"
      ]
     },
     "metadata": {
      "needs_background": "light"
     },
     "output_type": "display_data"
    }
   ],
   "source": [
    "plotx = new_test[0][5:, 0]\n",
    "ploty = new_test[0][5:, 1]\n",
    "predx = []\n",
    "predy = []\n",
    "truex = []\n",
    "truey = []\n",
    "for i in range(len(y1)):\n",
    "    if y1[i] == 1:\n",
    "        truex.append(plotx[i])\n",
    "        truey.append(ploty[i])\n",
    "for i in range(len(y_vals)):\n",
    "    if y_vals[i] == 1:\n",
    "        predx.append(plotx[i])\n",
    "        predy.append(ploty[i])\n",
    "    \n",
    "plt.figure()\n",
    "plt.title('True Contact')\n",
    "plt.plot(plotx, ploty)\n",
    "plt.scatter(truex, truey)\n",
    "plt.figure()\n",
    "plt.title('Predicted Contact')\n",
    "plt.plot(plotx, ploty)\n",
    "plt.scatter(predx, predy)\n",
    "\n"
   ]
  },
  {
   "cell_type": "code",
   "execution_count": null,
   "metadata": {},
   "outputs": [],
   "source": []
  }
 ],
 "metadata": {
  "kernelspec": {
   "display_name": "Python 3",
   "language": "python",
   "name": "python3"
  },
  "language_info": {
   "codemirror_mode": {
    "name": "ipython",
    "version": 3
   },
   "file_extension": ".py",
   "mimetype": "text/x-python",
   "name": "python",
   "nbconvert_exporter": "python",
   "pygments_lexer": "ipython3",
   "version": "3.7.7"
  }
 },
 "nbformat": 4,
 "nbformat_minor": 4
}
